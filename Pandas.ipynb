{
 "cells": [
  {
   "cell_type": "markdown",
   "id": "7645400a",
   "metadata": {},
   "source": [
    "# Pandas - Verarbeitung, Analyse und Darstellung von Daten \n",
    "https://pandas.pydata.org/docs/\n",
    "\n",
    "Datensatz der ZAMG - Zentralanstalt für Meteorologie und Geodynamik\n",
    "https://data.hub.zamg.ac.at/"
   ]
  },
  {
   "cell_type": "code",
   "id": "5609f75d",
   "metadata": {},
   "source": [
    "import pandas as pd\n",
    "import numpy as np\n",
    "import scipy.stats as sp\n",
    "import matplotlib.pyplot as plt\n",
    "%matplotlib inline"
   ],
   "outputs": [],
   "execution_count": null
  },
  {
   "cell_type": "markdown",
   "id": "e53e8e39",
   "metadata": {},
   "source": [
    "Daten lesen"
   ]
  },
  {
   "cell_type": "code",
   "id": "6b426d06",
   "metadata": {},
   "source": [
    "pfad = \"ZAMG_GRAZ_Datensatz_20000101_20221207.csv\"\n",
    "df=pd.read_csv(pfad, parse_dates=['time'])\n",
    "df=df.set_index('time')\n",
    "df"
   ],
   "outputs": [],
   "execution_count": null
  },
  {
   "cell_type": "markdown",
   "id": "066fbc31",
   "metadata": {},
   "source": [
    "Daten bereinigen"
   ]
  },
  {
   "cell_type": "code",
   "id": "b8f176ef",
   "metadata": {},
   "source": "df.dropna(axis=1, how='any')",
   "outputs": [],
   "execution_count": null
  },
  {
   "metadata": {},
   "cell_type": "markdown",
   "source": "Daten speichern",
   "id": "8b9e6ac319475ee7"
  },
  {
   "metadata": {},
   "cell_type": "code",
   "source": "df.to_csv(\"ZAMG_GRAZ_Datensatz_20000101_20221207.txt\") ",
   "id": "4a39626e3904f7f9",
   "outputs": [],
   "execution_count": null
  },
  {
   "metadata": {},
   "cell_type": "code",
   "source": [
    "df_dymola = df\n",
    "df_dymola[\"unix_timestamp\"] = df.index\n",
    "df_dymola.unix_timestamp = df_dymola.unix_timestamp.apply(lambda x: x.timestamp())\n",
    "df_dymola.set_index(\"unix_timestamp\")"
   ],
   "id": "a84f03c6041f49a1",
   "outputs": [],
   "execution_count": null
  },
  {
   "metadata": {},
   "cell_type": "code",
   "source": "cols = [\"unix_timestamp\", \"TTX\", \"RSX\", \"LT2\", \"D6X\"]",
   "id": "2b5d88f3d16ffb18",
   "outputs": [],
   "execution_count": null
  },
  {
   "metadata": {},
   "cell_type": "code",
   "source": "df[cols].to_csv(\"ZAMG_GRAZ_Datensatz_20000101_20221207.txt\", sep=\" \")\n",
   "id": "9f27da8eb9b3fee0",
   "outputs": [],
   "execution_count": null
  },
  {
   "metadata": {},
   "cell_type": "markdown",
   "source": "",
   "id": "39b24398b65ac3c0"
  },
  {
   "cell_type": "markdown",
   "id": "5da6a20a",
   "metadata": {},
   "source": [
    "Was bedeuten die Kürzel? - Metadaten"
   ]
  },
  {
   "cell_type": "code",
   "id": "01ea4b93",
   "metadata": {},
   "source": [
    "pfad_metadaten = \"ZAMG_Parameter-Metadaten.csv\"\n",
    "df_meta=pd.read_csv(pfad_metadaten, quotechar = '*')\n",
    "df_meta"
   ],
   "outputs": [],
   "execution_count": null
  },
  {
   "cell_type": "code",
   "id": "72b60721",
   "metadata": {},
   "source": [
    "pd.set_option('display.max_colwidth', None)                        #Zeigt gesamte Spalte"
   ],
   "outputs": [],
   "execution_count": null
  },
  {
   "cell_type": "code",
   "id": "dc518fa4",
   "metadata": {},
   "source": [
    "df_meta[df_meta[\"Identifier\"]==\"D6X\"]"
   ],
   "outputs": [],
   "execution_count": null
  },
  {
   "cell_type": "code",
   "id": "adb7d212",
   "metadata": {},
   "source": [
    "df_meta[df_meta[\"Identifier\"].isin(df.columns)]"
   ],
   "outputs": [],
   "execution_count": null
  },
  {
   "cell_type": "markdown",
   "id": "439dc8fc",
   "metadata": {},
   "source": [
    "Datenanalyse mit Pandas"
   ]
  },
  {
   "cell_type": "code",
   "id": "43f590af",
   "metadata": {},
   "source": [
    "df.describe()"
   ],
   "outputs": [],
   "execution_count": null
  },
  {
   "cell_type": "markdown",
   "id": "7958e761",
   "metadata": {},
   "source": [
    "Wann gab es Niederschlag über 30mm pro Stunde?"
   ]
  },
  {
   "cell_type": "code",
   "id": "9d70c17d",
   "metadata": {},
   "source": [
    "df[df['RSX']>30]"
   ],
   "outputs": [],
   "execution_count": null
  },
  {
   "cell_type": "code",
   "id": "f44ff8cc",
   "metadata": {},
   "source": [
    "len(df[df['RSX']<0.0000001])/34216"
   ],
   "outputs": [],
   "execution_count": null
  },
  {
   "cell_type": "markdown",
   "id": "301a93e0",
   "metadata": {},
   "source": [
    "Visualisieren"
   ]
  },
  {
   "cell_type": "code",
   "id": "6ce01cad",
   "metadata": {},
   "source": [
    "df['LT2'].hist()"
   ],
   "outputs": [],
   "execution_count": null
  },
  {
   "cell_type": "code",
   "id": "a42a748b",
   "metadata": {
    "scrolled": true
   },
   "source": [
    "df['TTX'].plot()"
   ],
   "outputs": [],
   "execution_count": null
  },
  {
   "cell_type": "code",
   "id": "918cd900",
   "metadata": {},
   "source": [
    "df['TTX']['2022'].plot()"
   ],
   "outputs": [],
   "execution_count": null
  },
  {
   "cell_type": "markdown",
   "id": "5c2c658e",
   "metadata": {},
   "source": [
    "Zeitreihen Resampling - Datengranularität"
   ]
  },
  {
   "cell_type": "code",
   "id": "269054c6",
   "metadata": {},
   "source": "df_TTX = df['TTX'].resample('ME').mean()",
   "outputs": [],
   "execution_count": null
  },
  {
   "cell_type": "code",
   "id": "4f990a33",
   "metadata": {},
   "source": [
    "df_TTX.plot()"
   ],
   "outputs": [],
   "execution_count": null
  },
  {
   "cell_type": "code",
   "id": "cdf73ad3",
   "metadata": {},
   "source": [
    "df_RSX = df['RSX'].resample('ME').sum()\n",
    "df_RSX.plot()"
   ],
   "outputs": [],
   "execution_count": null
  },
  {
   "cell_type": "markdown",
   "id": "af24abfd",
   "metadata": {},
   "source": [
    "Datenanalyse - Linearer Fit"
   ]
  },
  {
   "cell_type": "code",
   "id": "954482da",
   "metadata": {},
   "source": [
    "y=np.array(df['TTX'].dropna().values, dtype=float)\n",
    "x=np.array(pd.to_datetime(df['TTX'].dropna()).index.values, dtype=float)\n",
    "slope, intercept, r_value, p_value, std_err =sp.linregress(x,y)\n",
    "xf = np.linspace(min(x),max(x),100)\n",
    "xf1 = xf.copy()\n",
    "xf1 = pd.to_datetime(xf1)\n",
    "yf = (slope*xf)+intercept"
   ],
   "outputs": [],
   "execution_count": null
  },
  {
   "cell_type": "code",
   "id": "7837ef8d",
   "metadata": {},
   "source": [
    "f, ax = plt.subplots(1, 1)\n",
    "df['TTX'].dropna().plot(ax=ax,marker='.', ls='')\n",
    "ax.plot(xf1, yf,label='Linear fit', lw=3)\n",
    "plt.ylabel('Temperatur')\n",
    "ax.legend();"
   ],
   "outputs": [],
   "execution_count": null
  },
  {
   "cell_type": "markdown",
   "id": "e57c829f",
   "metadata": {},
   "source": [
    "Wie viel ist die mittlere Lufttemperatur in 2m Höhe vor der Uni Graz seit 2000 gestiegen?"
   ]
  },
  {
   "cell_type": "code",
   "id": "2ed03478",
   "metadata": {},
   "source": [
    "yf[-1]-yf[0]"
   ],
   "outputs": [],
   "execution_count": null
  },
  {
   "metadata": {},
   "cell_type": "markdown",
   "source": "Daten speichern",
   "id": "5d0f9a7f86894a10"
  },
  {
   "metadata": {},
   "cell_type": "code",
   "source": "df_dymola = df.loc[\"2020-12\"]",
   "id": "f2380299e34d51cb",
   "outputs": [],
   "execution_count": null
  },
  {
   "metadata": {},
   "cell_type": "code",
   "source": "df_dymola.LT2.plot()",
   "id": "d8a02d12a225e0b2",
   "outputs": [],
   "execution_count": null
  },
  {
   "metadata": {},
   "cell_type": "code",
   "source": "df_dymola[\"LT2\"].fillna(0).plot()",
   "id": "bff5693f753ea628",
   "outputs": [],
   "execution_count": null
  },
  {
   "metadata": {},
   "cell_type": "code",
   "source": "df_dymola[\"LT2\"].bfill().plot()",
   "id": "3a3e5101487cb790",
   "outputs": [],
   "execution_count": null
  },
  {
   "metadata": {},
   "cell_type": "code",
   "source": "df_dymola[\"LT2\"].ffill().plot()",
   "id": "8e66e8dffd2d0a6d",
   "outputs": [],
   "execution_count": null
  },
  {
   "metadata": {},
   "cell_type": "code",
   "source": "df_dymola[\"LT2\"].interpolate(method=\"polynomial\", order=2).plot()",
   "id": "62f246829afca54b",
   "outputs": [],
   "execution_count": null
  },
  {
   "metadata": {},
   "cell_type": "code",
   "source": "df_dymola = df_dymola.interpolate(method=\"polynomial\", order=2)",
   "id": "7ed96faff02e20b1",
   "outputs": [],
   "execution_count": null
  },
  {
   "metadata": {},
   "cell_type": "code",
   "source": "df.to_csv(\"ZAMG_GRAZ_Datensatz_20000101_20221207.txt\")",
   "id": "28fe10e08a104797",
   "outputs": [],
   "execution_count": null
  },
  {
   "metadata": {},
   "cell_type": "markdown",
   "source": "Datenformat UNIX Zeitstempel: Anzahl der seit dem 1. Januar 1970, 00:00:00 UTC, verstrichenen Sekunden ",
   "id": "99c9a22c967381cd"
  },
  {
   "metadata": {},
   "cell_type": "code",
   "source": [
    "df_dymola = df_dymola.assign(unix_timestamp = df_dymola.index)\n",
    "df_dymola.unix_timestamp = df_dymola.unix_timestamp.apply(lambda x: x.timestamp())\n",
    "df_dymola = df_dymola.set_index(\"unix_timestamp\")"
   ],
   "id": "c1efbbd4a96cea70",
   "outputs": [],
   "execution_count": null
  },
  {
   "metadata": {},
   "cell_type": "code",
   "source": "df_dymola.to_csv(\"ZAMG_GRAZ_Datensatz_20000101_20221207.txt\", sep=\" \")",
   "id": "26dbd9a7e2697b56",
   "outputs": [],
   "execution_count": null
  },
  {
   "metadata": {},
   "cell_type": "code",
   "source": [
    "f = open(\"ZAMG_GRAZ_Datensatz_20000101_20221207.txt\",\"r+\")\n",
    "lines = f.readlines() # lese File\n",
    "f.seek(0) # zurück zum Anfang\n",
    "f.write(\"#1\\n\") # Schreibe neue Zeile\n",
    "f.write(\"double ZAMGdata\"+str(df_dymola.shape)+\" #\") # Schreibe neue Zeile\n",
    "for line in lines: # Schreibe ursprünglichen Inhalt\n",
    "    f.write(line)\n",
    "f.close()"
   ],
   "id": "26b8dad1ff848f2",
   "outputs": [],
   "execution_count": null
  }
 ],
 "metadata": {
  "kernelspec": {
   "display_name": "Python 3 (ipykernel)",
   "language": "python",
   "name": "python3"
  },
  "language_info": {
   "codemirror_mode": {
    "name": "ipython",
    "version": 3
   },
   "file_extension": ".py",
   "mimetype": "text/x-python",
   "name": "python",
   "nbconvert_exporter": "python",
   "pygments_lexer": "ipython3",
   "version": "3.10.5"
  }
 },
 "nbformat": 4,
 "nbformat_minor": 5
}
